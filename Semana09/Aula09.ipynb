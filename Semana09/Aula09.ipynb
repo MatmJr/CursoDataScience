{
 "cells": [
  {
   "cell_type": "markdown",
   "metadata": {},
   "source": [
    "# Aula 09\n",
    "\n",
    "Dataset do Exercício"
   ]
  },
  {
   "cell_type": "code",
   "execution_count": 4,
   "metadata": {},
   "outputs": [],
   "source": [
    "import pandas as pd\n",
    "import requests\n",
    "from io import StringIO\n",
    "import re\n",
    "\n",
    "# Criação do dataFrame dos alunos\n",
    "# ID do arquivo no Google Drive\n",
    "file_id = '1Fkd92kLDCO-Bii6jKJ5V2cQi9lI4gvAn'\n",
    "\n",
    "# URL modificada para forçar o download do arquivo\n",
    "url = f\"https://drive.google.com/uc?id={file_id}\"\n",
    "\n",
    "# Tentando obter o arquivo com requests\n",
    "try:\n",
    "    response = requests.get(url)\n",
    "    response.raise_for_status()  # Lança um erro para respostas não-sucedidas\n",
    "    # Usando StringIO para converter o texto em um arquivo em memória e, então, lendo com o Pandas\n",
    "    csv_raw = StringIO(response.text)\n",
    "    data = pd.read_csv(csv_raw, header= None)\n",
    "except requests.RequestException as e:\n",
    "    print(f\"Erro ao acessar o arquivo: {e}\")\n",
    "\n"
   ]
  }
 ],
 "metadata": {
  "kernelspec": {
   "display_name": "venv",
   "language": "python",
   "name": "python3"
  },
  "language_info": {
   "codemirror_mode": {
    "name": "ipython",
    "version": 3
   },
   "file_extension": ".py",
   "mimetype": "text/x-python",
   "name": "python",
   "nbconvert_exporter": "python",
   "pygments_lexer": "ipython3",
   "version": "3.11.9"
  }
 },
 "nbformat": 4,
 "nbformat_minor": 2
}
