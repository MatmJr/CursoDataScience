{
 "cells": [
  {
   "cell_type": "markdown",
   "metadata": {},
   "source": [
    "O conceito de variável em Python é representado sempre por um objeto (tudo é objeto), e toda variável é uma referência. Na maioria das linguagens de programação, quando iniciamos uma variável e atribuímos um valor a ela, essas carregam valores que são alocados em memória, e quando alteramos os seus valores, estamos alterando o valor na memória também. Porém, no Python as variáveis armazenam endereços de memória e não os valores."
   ]
  },
  {
   "cell_type": "code",
   "execution_count": 1,
   "metadata": {},
   "outputs": [
    {
     "name": "stdout",
     "output_type": "stream",
     "text": [
      "x é uma variável do tipo:  <class 'int'>\n",
      "y é uma variável do tipo:  <class 'float'>\n"
     ]
    }
   ],
   "source": [
    "x = 1\n",
    "y = 0.1324\n",
    "\n",
    "print(\"x é uma variável do tipo: \", type(x))\n",
    "print(\"y é uma variável do tipo: \", type(y))"
   ]
  },
  {
   "cell_type": "markdown",
   "metadata": {},
   "source": [
    "Python é uma linguagem de programação dinamicamente tipada. Isso significa que, ao contrário das linguagens estaticamente tipadas, onde o tipo de cada variável deve ser explicitamente declarado, em Python, o tipo de uma variável é determinado em tempo de execução. Isso oferece flexibilidade aos programadores, pois permite que eles escrevam código sem precisar definir antecipadamente os tipos de dados."
   ]
  },
  {
   "cell_type": "code",
   "execution_count": 2,
   "metadata": {},
   "outputs": [
    {
     "name": "stdout",
     "output_type": "stream",
     "text": [
      "Data Science\n"
     ]
    }
   ],
   "source": [
    "x = \"Data \"\n",
    "y = \"Science\"\n",
    "print(x + y)"
   ]
  },
  {
   "cell_type": "markdown",
   "metadata": {},
   "source": [
    "Ainda podemos fazer conversões:"
   ]
  },
  {
   "cell_type": "code",
   "execution_count": 3,
   "metadata": {},
   "outputs": [
    {
     "name": "stdout",
     "output_type": "stream",
     "text": [
      "4.4 4 3 1045859 3.0 3 3 4 3 4\n"
     ]
    }
   ],
   "source": [
    "a = float(22/5)\n",
    "b = int(4.5)\n",
    "c = int(3.9)\n",
    "d = int(0xff563)\n",
    "e = float(int(3.9))\n",
    "f = int(float(3.9))\n",
    "g = int(float(3))\n",
    "h = round(3.9)\n",
    "i = round(3)\n",
    "j = int(round(3.9))\n",
    "print(a,b,c,d,e,f,g,h,i,j)"
   ]
  }
 ],
 "metadata": {
  "kernelspec": {
   "display_name": "venv",
   "language": "python",
   "name": "python3"
  },
  "language_info": {
   "codemirror_mode": {
    "name": "ipython",
    "version": 3
   },
   "file_extension": ".py",
   "mimetype": "text/x-python",
   "name": "python",
   "nbconvert_exporter": "python",
   "pygments_lexer": "ipython3",
   "version": "3.12.1"
  }
 },
 "nbformat": 4,
 "nbformat_minor": 2
}
