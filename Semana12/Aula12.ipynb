{
  "cells": [
    {
      "cell_type": "markdown",
      "metadata": {
        "id": "G8L534NeS2gb"
      },
      "source": [
        "# Aula 12\n",
        "\n",
        "Nas aulas passadas começamos a trabalhar com o dataset do Titanic, fizemos a etapa de processamento e começamos a estudar as estatísticas descritivas do conjunto de dados."
      ]
    },
    {
      "cell_type": "code",
      "execution_count": 1,
      "metadata": {
        "id": "-UKkpbogS2gf"
      },
      "outputs": [],
      "source": [
        "import pandas as pd\n",
        "import requests\n",
        "from io import StringIO\n",
        "import re\n",
        "\n",
        "# Criação do dataFrame dos alunos\n",
        "# ID do arquivo no Google Drive\n",
        "file_id = '1S5Nl793vcL5ZPTGjzKaIEbwbLaDplvIP'\n",
        "\n",
        "# URL modificada para forçar o download do arquivo\n",
        "url = f\"https://drive.google.com/uc?id={file_id}\"\n",
        "\n",
        "# Tentando obter o arquivo com requests\n",
        "try:\n",
        "    response = requests.get(url)\n",
        "    response.raise_for_status()  # Lança um erro para respostas não-sucedidas\n",
        "    # Usando StringIO para converter o texto em um arquivo em memória e, então, lendo com o Pandas\n",
        "    csv_raw = StringIO(response.text)\n",
        "    data = pd.read_csv(csv_raw)\n",
        "except requests.RequestException as e:\n",
        "    print(f\"Erro ao acessar o arquivo: {e}\")\n",
        "\n",
        "\n",
        "#Transformando o PassengerId no índice\n",
        "data = data.set_index(\"PassengerId\")\n",
        "\n",
        "#Criando uma função que encontra os pronomes de tratamentos dos passageiros\n",
        "def extract_title(name):\n",
        "    title_search = re.search(' ([A-Za-z]+)\\.', name)\n",
        "    if title_search:\n",
        "        return title_search.group(1)\n",
        "    return \"\"\n",
        "\n",
        "#Aplicando a função na coluna de nomes, isto é, criando uma coluna só com os pronomes de tratamentos\n",
        "data['Title'] = data['Name'].apply(extract_title)\n",
        "\n",
        "#Substituindo os valores ausentes das idades pela mediana agrupada por sexo e classe de passageiro\n",
        "data['Age'] = data.groupby(['Sex', 'Pclass'])['Age'].transform(lambda x: x.fillna(x.median()))\n",
        "\n",
        "#Substituindo os valores ausentes do porto de embarque pelo valor que mais apareceu\n",
        "data['Embarked'] = data['Embarked'].fillna('S')\n",
        "\n",
        "#Substituindo os valores ausentes da cabine com base na Classe e no mapa do navio\n",
        "for num in [1, 2, 3]:\n",
        "    if num == 1:\n",
        "        data.loc[data['Pclass'] == 1, 'Cabin'] = data.loc[data['Pclass'] == 1, 'Cabin'].fillna('ABC')\n",
        "    elif num == 2:\n",
        "        data.loc[data['Pclass'] == 2, 'Cabin'] = data.loc[data['Pclass'] == 2, 'Cabin'].fillna('DE')\n",
        "    elif num == 3:\n",
        "        data.loc[data['Pclass'] == 3, 'Cabin'] = data.loc[data['Pclass'] == 3, 'Cabin'].fillna('FG')\n"
      ]
    },
    {
      "cell_type": "code",
      "execution_count": 2,
      "metadata": {
        "colab": {
          "base_uri": "https://localhost:8080/",
          "height": 238
        },
        "id": "BaLEy1fs7724",
        "outputId": "fc8f94b6-3f84-45fb-b35b-593102df4487"
      },
      "outputs": [
        {
          "data": {
            "text/html": [
              "<div>\n",
              "<style scoped>\n",
              "    .dataframe tbody tr th:only-of-type {\n",
              "        vertical-align: middle;\n",
              "    }\n",
              "\n",
              "    .dataframe tbody tr th {\n",
              "        vertical-align: top;\n",
              "    }\n",
              "\n",
              "    .dataframe thead th {\n",
              "        text-align: right;\n",
              "    }\n",
              "</style>\n",
              "<table border=\"1\" class=\"dataframe\">\n",
              "  <thead>\n",
              "    <tr style=\"text-align: right;\">\n",
              "      <th></th>\n",
              "      <th>Survived</th>\n",
              "      <th>Pclass</th>\n",
              "      <th>Name</th>\n",
              "      <th>Sex</th>\n",
              "      <th>Age</th>\n",
              "      <th>SibSp</th>\n",
              "      <th>Parch</th>\n",
              "      <th>Ticket</th>\n",
              "      <th>Fare</th>\n",
              "      <th>Cabin</th>\n",
              "      <th>Embarked</th>\n",
              "      <th>Title</th>\n",
              "    </tr>\n",
              "    <tr>\n",
              "      <th>PassengerId</th>\n",
              "      <th></th>\n",
              "      <th></th>\n",
              "      <th></th>\n",
              "      <th></th>\n",
              "      <th></th>\n",
              "      <th></th>\n",
              "      <th></th>\n",
              "      <th></th>\n",
              "      <th></th>\n",
              "      <th></th>\n",
              "      <th></th>\n",
              "      <th></th>\n",
              "    </tr>\n",
              "  </thead>\n",
              "  <tbody>\n",
              "    <tr>\n",
              "      <th>1</th>\n",
              "      <td>0</td>\n",
              "      <td>3</td>\n",
              "      <td>Braund, Mr. Owen Harris</td>\n",
              "      <td>male</td>\n",
              "      <td>22.0</td>\n",
              "      <td>1</td>\n",
              "      <td>0</td>\n",
              "      <td>A/5 21171</td>\n",
              "      <td>7.2500</td>\n",
              "      <td>FG</td>\n",
              "      <td>S</td>\n",
              "      <td>Mr</td>\n",
              "    </tr>\n",
              "    <tr>\n",
              "      <th>2</th>\n",
              "      <td>1</td>\n",
              "      <td>1</td>\n",
              "      <td>Cumings, Mrs. John Bradley (Florence Briggs Th...</td>\n",
              "      <td>female</td>\n",
              "      <td>38.0</td>\n",
              "      <td>1</td>\n",
              "      <td>0</td>\n",
              "      <td>PC 17599</td>\n",
              "      <td>71.2833</td>\n",
              "      <td>C85</td>\n",
              "      <td>C</td>\n",
              "      <td>Mrs</td>\n",
              "    </tr>\n",
              "    <tr>\n",
              "      <th>3</th>\n",
              "      <td>1</td>\n",
              "      <td>3</td>\n",
              "      <td>Heikkinen, Miss. Laina</td>\n",
              "      <td>female</td>\n",
              "      <td>26.0</td>\n",
              "      <td>0</td>\n",
              "      <td>0</td>\n",
              "      <td>STON/O2. 3101282</td>\n",
              "      <td>7.9250</td>\n",
              "      <td>FG</td>\n",
              "      <td>S</td>\n",
              "      <td>Miss</td>\n",
              "    </tr>\n",
              "    <tr>\n",
              "      <th>4</th>\n",
              "      <td>1</td>\n",
              "      <td>1</td>\n",
              "      <td>Futrelle, Mrs. Jacques Heath (Lily May Peel)</td>\n",
              "      <td>female</td>\n",
              "      <td>35.0</td>\n",
              "      <td>1</td>\n",
              "      <td>0</td>\n",
              "      <td>113803</td>\n",
              "      <td>53.1000</td>\n",
              "      <td>C123</td>\n",
              "      <td>S</td>\n",
              "      <td>Mrs</td>\n",
              "    </tr>\n",
              "    <tr>\n",
              "      <th>5</th>\n",
              "      <td>0</td>\n",
              "      <td>3</td>\n",
              "      <td>Allen, Mr. William Henry</td>\n",
              "      <td>male</td>\n",
              "      <td>35.0</td>\n",
              "      <td>0</td>\n",
              "      <td>0</td>\n",
              "      <td>373450</td>\n",
              "      <td>8.0500</td>\n",
              "      <td>FG</td>\n",
              "      <td>S</td>\n",
              "      <td>Mr</td>\n",
              "    </tr>\n",
              "  </tbody>\n",
              "</table>\n",
              "</div>"
            ],
            "text/plain": [
              "             Survived  Pclass  \\\n",
              "PassengerId                     \n",
              "1                   0       3   \n",
              "2                   1       1   \n",
              "3                   1       3   \n",
              "4                   1       1   \n",
              "5                   0       3   \n",
              "\n",
              "                                                          Name     Sex   Age  \\\n",
              "PassengerId                                                                    \n",
              "1                                      Braund, Mr. Owen Harris    male  22.0   \n",
              "2            Cumings, Mrs. John Bradley (Florence Briggs Th...  female  38.0   \n",
              "3                                       Heikkinen, Miss. Laina  female  26.0   \n",
              "4                 Futrelle, Mrs. Jacques Heath (Lily May Peel)  female  35.0   \n",
              "5                                     Allen, Mr. William Henry    male  35.0   \n",
              "\n",
              "             SibSp  Parch            Ticket     Fare Cabin Embarked Title  \n",
              "PassengerId                                                                \n",
              "1                1      0         A/5 21171   7.2500    FG        S    Mr  \n",
              "2                1      0          PC 17599  71.2833   C85        C   Mrs  \n",
              "3                0      0  STON/O2. 3101282   7.9250    FG        S  Miss  \n",
              "4                1      0            113803  53.1000  C123        S   Mrs  \n",
              "5                0      0            373450   8.0500    FG        S    Mr  "
            ]
          },
          "execution_count": 2,
          "metadata": {},
          "output_type": "execute_result"
        }
      ],
      "source": [
        "data.head()"
      ]
    },
    {
      "cell_type": "markdown",
      "metadata": {
        "id": "eTSZy3Je94Ak"
      },
      "source": [
        "\n",
        "| Nome da Variável | Descrição                               |\n",
        "|------------------|-----------------------------------------|\n",
        "| Survived         | Sobreviveu (1) ou morreu (0)            |\n",
        "| Pclass           | Classe do passageiro (1 = Upper Class, 2 = Middle Class, 3 = Lower Class) |\n",
        "| Name             | Nome do passageiro                      |\n",
        "| Sex              | Sexo do passageiro                      |\n",
        "| Age              | Idade do passageiro                     |\n",
        "| SibSp            | Número de irmãos/cônjuges a bordo       |\n",
        "| Parch            | Número de pais/filhos a bordo           |\n",
        "| Ticket           | Número do bilhete                       |\n",
        "| Fare             | Tarifa                                  |\n",
        "| Cabin            | Cabine                                  |\n",
        "| Embarked         | Porto de embarque C = Cherbourg, Q = Queenstown, S = Southampton|"
      ]
    },
    {
      "cell_type": "markdown",
      "metadata": {
        "id": "pCrwnMLy-HCz"
      },
      "source": [
        "Para transformar as colunas categóricas 'Sex', 'Cabin', e 'Title' em números usando LabelEncoder do pacote sklearn, você pode seguir os passos abaixo."
      ]
    },
    {
      "cell_type": "code",
      "execution_count": 3,
      "metadata": {
        "colab": {
          "base_uri": "https://localhost:8080/",
          "height": 238
        },
        "id": "VMR9zbG6_FNk",
        "outputId": "3f98c317-954b-4ce2-de2a-dd6c1c2dd81b"
      },
      "outputs": [],
      "source": [
        "from sklearn.preprocessing import LabelEncoder\n",
        "\n",
        "# Inicializando o LabelEncoder\n",
        "label_encoder = LabelEncoder()\n",
        "\n",
        "df_encoded = data.copy()\n",
        "\n",
        "# Colunas a serem transformadas\n",
        "columns_to_encode = ['Sex', 'Cabin', 'Title', 'Embarked']\n",
        "\n",
        "# Aplicando LabelEncoder às colunas categóricas\n",
        "for column in columns_to_encode:\n",
        "    df_encoded[column] = label_encoder.fit_transform(df_encoded[column])\n",
        "    \n",
        "#Retirando as colunas Nome e Ticket\n",
        "df_encoded = df_encoded.drop(['Name','Ticket'], axis=1)\n",
        "\n",
        "# Mostrando o DataFrame transformado\n",
        "df_encoded.head()"
      ]
    },
    {
      "cell_type": "markdown",
      "metadata": {},
      "source": [
        "### Criando um Classificador\n",
        "\n",
        "O Random Forest Classifier é um método de aprendizado de máquina baseado em um conjunto de árvores de decisão. Este algoritmo é amplamente utilizado devido à sua simplicidade e eficácia, sendo uma das escolhas mais populares para tarefas de classificação e regressão.\n",
        "\n",
        "#### Princípios Básicos\n",
        "\n",
        "**Aprendizado por Conjunto (Ensemble Learning):** O Random Forest é um exemplo clássico de aprendizado por conjunto. Ele combina várias árvores de decisão para produzir uma predição mais robusta e precisa. A ideia principal é que, ao combinar vários modelos fracos (árvores de decisão), pode-se formar um modelo forte.\n",
        "\n",
        "**Árvores de Decisão:** Cada árvore de decisão no conjunto é construída utilizando uma amostra diferente dos dados de treinamento. Essas árvores são treinadas para fazer predições com base em diferentes subconjuntos dos dados de entrada e características.\n",
        "\n",
        "Durante o treinamento, várias amostras de bootstrap são geradas a partir dos dados de treinamento originais. Cada amostra é criada selecionando aleatoriamente, com reposição, os exemplos do conjunto de dados. Isso significa que alguns exemplos podem aparecer várias vezes em uma amostra, enquanto outros podem não aparecer.\n",
        "\n",
        "Para cada amostra de bootstrap, uma árvore de decisão é construída. No Random Forest, há um passo adicional de aleatoriedade: em cada nó da árvore, uma seleção aleatória de características é considerada para a divisão, em vez de usar todas as características. Isso aumenta a diversidade entre as árvores e ajuda a reduzir a correlação entre elas.\n",
        "\n",
        "Para fazer uma predição, o Random Forest Classifier passa o exemplo a ser classificado por todas as árvores no conjunto. Cada árvore faz sua própria predição, e a predição final é determinada pela maioria das árvores (votação majoritária) no caso de classificação. No caso de regressão, a média das predições de todas as árvores é usada."
      ]
    },
    {
      "cell_type": "code",
      "execution_count": null,
      "metadata": {},
      "outputs": [],
      "source": []
    },
    {
      "cell_type": "code",
      "execution_count": null,
      "metadata": {},
      "outputs": [],
      "source": []
    },
    {
      "cell_type": "code",
      "execution_count": null,
      "metadata": {},
      "outputs": [],
      "source": []
    },
    {
      "cell_type": "code",
      "execution_count": null,
      "metadata": {},
      "outputs": [],
      "source": [
        "\n"
      ]
    },
    {
      "cell_type": "markdown",
      "metadata": {},
      "source": [
        "### Matriz de Confusão\n",
        "\n",
        "A matriz de confusão mostra os verdadeiros positivos, verdadeiros negativos, falsos positivos e falsos negativos:"
      ]
    },
    {
      "cell_type": "code",
      "execution_count": null,
      "metadata": {},
      "outputs": [],
      "source": []
    },
    {
      "cell_type": "markdown",
      "metadata": {},
      "source": [
        "### Acurácia\n",
        "A acurácia é a proporção de previsões corretas sobre o total de previsões:"
      ]
    },
    {
      "cell_type": "code",
      "execution_count": null,
      "metadata": {},
      "outputs": [],
      "source": []
    },
    {
      "cell_type": "markdown",
      "metadata": {},
      "source": [
        "### Precisão, Revocação e F1-Score\n",
        "A precisão (precision) é a proporção de verdadeiros positivos sobre o total de positivos preditos. A revocação (recall) é a proporção de verdadeiros positivos sobre o total de positivos reais. A pontuação F1 é a média harmônica da precisão e revocação:"
      ]
    },
    {
      "cell_type": "code",
      "execution_count": null,
      "metadata": {},
      "outputs": [],
      "source": []
    },
    {
      "cell_type": "markdown",
      "metadata": {},
      "source": [
        "### AUC-ROC\n",
        "A AUC-ROC mede a capacidade do modelo de distinguir entre classes. Uma AUC de 1.0 indica um classificador perfeito, enquanto uma AUC de 0.5 indica um classificador aleatório:"
      ]
    },
    {
      "cell_type": "code",
      "execution_count": null,
      "metadata": {},
      "outputs": [],
      "source": [
        "\n"
      ]
    },
    {
      "cell_type": "code",
      "execution_count": null,
      "metadata": {},
      "outputs": [],
      "source": []
    },
    {
      "cell_type": "markdown",
      "metadata": {},
      "source": [
        "### Um classificador"
      ]
    },
    {
      "cell_type": "code",
      "execution_count": null,
      "metadata": {},
      "outputs": [
        {
          "name": "stdout",
          "output_type": "stream",
          "text": [
            "Probabilidade de Sobrevivência: 0.81\n",
            "Classificação: Sobreviveu\n"
          ]
        }
      ],
      "source": [
        "def prever_sobrevivencia(model, attributes, df_template):\n",
        "    \"\"\"\n",
        "    Função para prever a probabilidade de sobrevivência com base em atributos fornecidos.\n",
        "    \n",
        "    Parâmetros:\n",
        "    - model: O modelo treinado (Random Forest).\n",
        "    - attributes: Um dicionário contendo os atributos necessários para a predição.\n",
        "    - df_template: DataFrame usado como template para manter a ordem e colunas corretas.\n",
        "    \n",
        "    Retorna:\n",
        "    - probabilidade: A probabilidade de sobrevivência.\n",
        "    - classificacao: 1 se a pessoa provavelmente sobreviveu, 0 caso contrário.\n",
        "    \"\"\"\n",
        "    # Adicionar placeholders para 'Cabin' e 'Title' nos atributos fornecidos\n",
        "    attributes['Cabin'] = 0\n",
        "    attributes['Title'] = 0\n",
        "    \n",
        "    # Crie um DataFrame com os atributos fornecidos\n",
        "    df = pd.DataFrame([attributes])\n",
        "    \n",
        "    # Colunas necessárias para a predição, baseadas no df_template\n",
        "    columns_to_use = df_template.drop(['Survived', 'Probability', 'Classification', 'Name', 'Ticket'], axis=1, errors='ignore').columns\n",
        "    \n",
        "    # Reindexe para garantir que todas as colunas estejam presentes\n",
        "    df = df.reindex(columns=columns_to_use, fill_value=0)\n",
        "    \n",
        "    # Faça a previsão\n",
        "    probabilidade = model.predict_proba(df)[:, 1][0]\n",
        "    classificacao = model.predict(df)[0]\n",
        "    \n",
        "    return probabilidade, classificacao\n",
        "\n",
        "# Exemplo de uso da função\n",
        "atributos_exemplo = {\n",
        "    'Pclass': 2,\n",
        "    'Sex': 0, \n",
        "    'Age': 40,\n",
        "    'SibSp': 1,\n",
        "    'Parch': 0,\n",
        "    'Fare': 50.25,\n",
        "    'Embarked': 2 \n",
        "}\n",
        "\n",
        "probabilidade, classificacao = prever_sobrevivencia(rf, atributos_exemplo, df_encoded)\n",
        "print(f'Probabilidade de Sobrevivência: {probabilidade:.2f}')\n",
        "print(f'Classificação: {\"Sobreviveu\" if classificacao == 1 else \"Não Sobreviveu\"}')\n"
      ]
    }
  ],
  "metadata": {
    "colab": {
      "provenance": []
    },
    "kernelspec": {
      "display_name": "venv",
      "language": "python",
      "name": "python3"
    },
    "language_info": {
      "codemirror_mode": {
        "name": "ipython",
        "version": 3
      },
      "file_extension": ".py",
      "mimetype": "text/x-python",
      "name": "python",
      "nbconvert_exporter": "python",
      "pygments_lexer": "ipython3",
      "version": "3.11.9"
    }
  },
  "nbformat": 4,
  "nbformat_minor": 0
}
